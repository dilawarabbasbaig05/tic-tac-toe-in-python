{
 "cells": [
  {
   "cell_type": "code",
   "execution_count": 2,
   "id": "cabbc6a2-ab90-4f10-932f-0378ca3c3cd3",
   "metadata": {},
   "outputs": [
    {
     "name": "stdin",
     "output_type": "stream",
     "text": [
      "Do you want to play with a human or a computer? (human/computer):  c\n",
      "Enter your name:  dillu\n"
     ]
    },
    {
     "name": "stdout",
     "output_type": "stream",
     "text": [
      "\n",
      "__________________________________________________________________________________________________________________________\n",
      "|                    \t\t       |            \t\t                 |              \t\t              |\n",
      "___________________________________________________________________________________________________________________________\n",
      "|                    \t\t       |            \t\t                 |              \t\t              |\n",
      "___________________________________________________________________________________________________________________________\n",
      "|                    \t\t       |            \t\t                 |              \t\t              |\n",
      "___________________________________________________________________________________________________________________________\n",
      "\n"
     ]
    },
    {
     "name": "stdin",
     "output_type": "stream",
     "text": [
      "dillu's turn, enter your move (1-9):  1\n"
     ]
    },
    {
     "name": "stdout",
     "output_type": "stream",
     "text": [
      "\n",
      "__________________________________________________________________________________________________________________________\n",
      "| dillu                  \t\t       |            \t\t                 |              \t\t              |\n",
      "___________________________________________________________________________________________________________________________\n",
      "|                    \t\t       |            \t\t                 |              \t\t              |\n",
      "___________________________________________________________________________________________________________________________\n",
      "|                    \t\t       |            \t\t                 |              \t\t              |\n",
      "___________________________________________________________________________________________________________________________\n",
      "\n",
      "Computer's turn, move: 3\n",
      "\n",
      "__________________________________________________________________________________________________________________________\n",
      "| dillu                  \t\t       |            \t\t                 | Computer            \t\t              |\n",
      "___________________________________________________________________________________________________________________________\n",
      "|                    \t\t       |            \t\t                 |              \t\t              |\n",
      "___________________________________________________________________________________________________________________________\n",
      "|                    \t\t       |            \t\t                 |              \t\t              |\n",
      "___________________________________________________________________________________________________________________________\n",
      "\n"
     ]
    },
    {
     "ename": "KeyboardInterrupt",
     "evalue": "Interrupted by user",
     "output_type": "error",
     "traceback": [
      "\u001b[1;31m---------------------------------------------------------------------------\u001b[0m",
      "\u001b[1;31mKeyboardInterrupt\u001b[0m                         Traceback (most recent call last)",
      "Cell \u001b[1;32mIn[2], line 72\u001b[0m\n\u001b[0;32m     69\u001b[0m             \u001b[38;5;28mprint\u001b[39m(\u001b[38;5;124m\"\u001b[39m\u001b[38;5;124mInvalid move, try again.\u001b[39m\u001b[38;5;124m\"\u001b[39m)\n\u001b[0;32m     71\u001b[0m \u001b[38;5;28;01mwhile\u001b[39;00m \u001b[38;5;28;01mTrue\u001b[39;00m:\n\u001b[1;32m---> 72\u001b[0m     play_game()\n\u001b[0;32m     73\u001b[0m     choice \u001b[38;5;241m=\u001b[39m \u001b[38;5;28minput\u001b[39m(\u001b[38;5;124m\"\u001b[39m\u001b[38;5;124mDo you want to play again? (yes/no): \u001b[39m\u001b[38;5;124m\"\u001b[39m)\n\u001b[0;32m     74\u001b[0m     \u001b[38;5;28;01mif\u001b[39;00m choice\u001b[38;5;241m.\u001b[39mlower() \u001b[38;5;241m!=\u001b[39m \u001b[38;5;124m\"\u001b[39m\u001b[38;5;124myes\u001b[39m\u001b[38;5;124m\"\u001b[39m:\n",
      "Cell \u001b[1;32mIn[2], line 51\u001b[0m, in \u001b[0;36mplay_game\u001b[1;34m()\u001b[0m\n\u001b[0;32m     49\u001b[0m \u001b[38;5;28;01melse\u001b[39;00m:\n\u001b[0;32m     50\u001b[0m     \u001b[38;5;28;01mif\u001b[39;00m current_player \u001b[38;5;241m==\u001b[39m player1:\n\u001b[1;32m---> 51\u001b[0m         move \u001b[38;5;241m=\u001b[39m \u001b[38;5;28minput\u001b[39m(\u001b[38;5;124m\"\u001b[39m\u001b[38;5;132;01m{}\u001b[39;00m\u001b[38;5;124m'\u001b[39m\u001b[38;5;124ms turn, enter your move (1-9): \u001b[39m\u001b[38;5;124m\"\u001b[39m\u001b[38;5;241m.\u001b[39mformat(current_player))\n\u001b[0;32m     52\u001b[0m     \u001b[38;5;28;01melse\u001b[39;00m:\n\u001b[0;32m     53\u001b[0m         move \u001b[38;5;241m=\u001b[39m \u001b[38;5;28mstr\u001b[39m(random\u001b[38;5;241m.\u001b[39mrandint(\u001b[38;5;241m1\u001b[39m, \u001b[38;5;241m9\u001b[39m))\n",
      "File \u001b[1;32mC:\\ProgramData\\anaconda3\\Lib\\site-packages\\ipykernel\\kernelbase.py:1262\u001b[0m, in \u001b[0;36mKernel.raw_input\u001b[1;34m(self, prompt)\u001b[0m\n\u001b[0;32m   1260\u001b[0m     msg \u001b[38;5;241m=\u001b[39m \u001b[38;5;124m\"\u001b[39m\u001b[38;5;124mraw_input was called, but this frontend does not support input requests.\u001b[39m\u001b[38;5;124m\"\u001b[39m\n\u001b[0;32m   1261\u001b[0m     \u001b[38;5;28;01mraise\u001b[39;00m StdinNotImplementedError(msg)\n\u001b[1;32m-> 1262\u001b[0m \u001b[38;5;28;01mreturn\u001b[39;00m \u001b[38;5;28mself\u001b[39m\u001b[38;5;241m.\u001b[39m_input_request(\n\u001b[0;32m   1263\u001b[0m     \u001b[38;5;28mstr\u001b[39m(prompt),\n\u001b[0;32m   1264\u001b[0m     \u001b[38;5;28mself\u001b[39m\u001b[38;5;241m.\u001b[39m_parent_ident[\u001b[38;5;124m\"\u001b[39m\u001b[38;5;124mshell\u001b[39m\u001b[38;5;124m\"\u001b[39m],\n\u001b[0;32m   1265\u001b[0m     \u001b[38;5;28mself\u001b[39m\u001b[38;5;241m.\u001b[39mget_parent(\u001b[38;5;124m\"\u001b[39m\u001b[38;5;124mshell\u001b[39m\u001b[38;5;124m\"\u001b[39m),\n\u001b[0;32m   1266\u001b[0m     password\u001b[38;5;241m=\u001b[39m\u001b[38;5;28;01mFalse\u001b[39;00m,\n\u001b[0;32m   1267\u001b[0m )\n",
      "File \u001b[1;32mC:\\ProgramData\\anaconda3\\Lib\\site-packages\\ipykernel\\kernelbase.py:1305\u001b[0m, in \u001b[0;36mKernel._input_request\u001b[1;34m(self, prompt, ident, parent, password)\u001b[0m\n\u001b[0;32m   1302\u001b[0m \u001b[38;5;28;01mexcept\u001b[39;00m \u001b[38;5;167;01mKeyboardInterrupt\u001b[39;00m:\n\u001b[0;32m   1303\u001b[0m     \u001b[38;5;66;03m# re-raise KeyboardInterrupt, to truncate traceback\u001b[39;00m\n\u001b[0;32m   1304\u001b[0m     msg \u001b[38;5;241m=\u001b[39m \u001b[38;5;124m\"\u001b[39m\u001b[38;5;124mInterrupted by user\u001b[39m\u001b[38;5;124m\"\u001b[39m\n\u001b[1;32m-> 1305\u001b[0m     \u001b[38;5;28;01mraise\u001b[39;00m \u001b[38;5;167;01mKeyboardInterrupt\u001b[39;00m(msg) \u001b[38;5;28;01mfrom\u001b[39;00m \u001b[38;5;28;01mNone\u001b[39;00m\n\u001b[0;32m   1306\u001b[0m \u001b[38;5;28;01mexcept\u001b[39;00m \u001b[38;5;167;01mException\u001b[39;00m:\n\u001b[0;32m   1307\u001b[0m     \u001b[38;5;28mself\u001b[39m\u001b[38;5;241m.\u001b[39mlog\u001b[38;5;241m.\u001b[39mwarning(\u001b[38;5;124m\"\u001b[39m\u001b[38;5;124mInvalid Message:\u001b[39m\u001b[38;5;124m\"\u001b[39m, exc_info\u001b[38;5;241m=\u001b[39m\u001b[38;5;28;01mTrue\u001b[39;00m)\n",
      "\u001b[1;31mKeyboardInterrupt\u001b[0m: Interrupted by user"
     ]
    }
   ],
   "source": [
    "import os\n",
    "import random\n",
    "\n",
    "board = [' ' for _ in range(9)]\n",
    "\n",
    "def print_board():\n",
    "    row1 = '| {}                  \\t\\t       | {}          \\t\\t                 | {}            \\t\\t              |'.format(board[0], board[1], board[2])\n",
    "    row2 = '| {}                  \\t\\t       | {}          \\t\\t                 | {}            \\t\\t              |'.format(board[3], board[4], board[5])\n",
    "    row3 = '| {}                  \\t\\t       | {}          \\t\\t                 | {}            \\t\\t              |'.format(board[6], board[7], board[8])\n",
    "     \n",
    "    print()\n",
    "    print(\"________________________________________________________________________________________________________________________________\")\n",
    "    print(row1)\n",
    "    print(\"________________________________________________________________________________________________________________________________\")\n",
    "    print(row2)\n",
    "    print(\"________________________________________________________________________________________________________________________________\")\n",
    "    print(row3)\n",
    "    print(\"________________________________________________________________________________________________________________________________\")\n",
    "    print()\n",
    "\n",
    "def check_win():\n",
    "    win_conditions = [(0, 1, 2), (3, 4, 5), (6, 7, 8), (0, 3, 6), (1, 4, 7), (2, 5, 8), (0, 4, 8), (2, 4, 6)]\n",
    "    for condition in win_conditions:\n",
    "        if board[condition[0]] == board[condition[1]] == board[condition[2]] != ' ':\n",
    "            return True\n",
    "    return False\n",
    "\n",
    "def check_draw():\n",
    "    return ' ' not in board\n",
    "\n",
    "def play_game():\n",
    "    global board\n",
    "    board = [' ' for _ in range(9)]\n",
    "    opponent = input(\"Do you want to play with a human or a computer? (human/computer): \")\n",
    "    if opponent == 'human':\n",
    "        player1 = input(\"Enter Player 1's name: \")\n",
    "        player2 = input(\"Enter Player 2's name: \")\n",
    "        current_player = player1\n",
    "    else:\n",
    "        player1 = input(\"Enter your name: \")\n",
    "        player2 = 'Computer'\n",
    "        current_player = player1\n",
    "\n",
    "    while True:\n",
    "        os.system('cls' if os.name == 'nt' else 'clear')\n",
    "        print_board()\n",
    "        if opponent == 'human':\n",
    "            move = input(\"{}'s turn, enter your move (1-9): \".format(current_player))\n",
    "        else:\n",
    "            if current_player == player1:\n",
    "                move = input(\"{}'s turn, enter your move (1-9): \".format(current_player))\n",
    "            else:\n",
    "                move = str(random.randint(1, 9))\n",
    "                print(\"{}'s turn, move: {}\".format(player2, move))\n",
    "        if board[int(move) - 1] == ' ':\n",
    "            board[int(move) - 1] = player1 if current_player == player1 else player2\n",
    "            if check_win():\n",
    "                os.system('cls' if os.name == 'nt' else 'clear')\n",
    "                print_board()\n",
    "                print(\"{} wins! Congratulations!\".format(current_player))\n",
    "                break\n",
    "            elif check_draw():\n",
    "                os.system('cls' if os.name == 'nt' else 'clear')\n",
    "                print_board()\n",
    "                print(\"It's a draw!\")\n",
    "                break\n",
    "            current_player = player2 if current_player == player1 else player1\n",
    "        else:\n",
    "            print(\"Invalid move, try again.\")\n",
    "\n",
    "while True:\n",
    "    play_game()\n",
    "    choice = input(\"Do you want to play again? (yes/no): \")\n",
    "    if choice.lower() != \"yes\":\n",
    "        print(\"good bye\")\n",
    "        break\n"
   ]
  },
  {
   "cell_type": "code",
   "execution_count": null,
   "id": "9b0853c2-2719-46d0-9408-28c355e783e2",
   "metadata": {},
   "outputs": [],
   "source": []
  },
  {
   "cell_type": "code",
   "execution_count": null,
   "id": "107120e6-7a08-40e0-be99-cb85792a8ec4",
   "metadata": {},
   "outputs": [],
   "source": []
  }
 ],
 "metadata": {
  "kernelspec": {
   "display_name": "Python 3 (ipykernel)",
   "language": "python",
   "name": "python3"
  },
  "language_info": {
   "codemirror_mode": {
    "name": "ipython",
    "version": 3
   },
   "file_extension": ".py",
   "mimetype": "text/x-python",
   "name": "python",
   "nbconvert_exporter": "python",
   "pygments_lexer": "ipython3",
   "version": "3.11.7"
  },
  "widgets": {
   "application/vnd.jupyter.widget-state+json": {
    "state": {},
    "version_major": 2,
    "version_minor": 0
   }
  }
 },
 "nbformat": 4,
 "nbformat_minor": 5
}
